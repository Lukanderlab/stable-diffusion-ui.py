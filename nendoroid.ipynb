{
  "cells": [
    {
      "cell_type": "code",
      "execution_count": null,
      "metadata": {
        "execution": {
          "iopub.execute_input": "2023-05-05T00:00:28.876322Z",
          "iopub.status.busy": "2023-05-05T00:00:28.875770Z",
          "iopub.status.idle": "2023-05-05T00:13:24.442024Z",
          "shell.execute_reply": "2023-05-05T00:13:24.441355Z",
          "shell.execute_reply.started": "2023-05-05T00:00:28.876322Z"
        },
        "id": "rIUmi3RhpQiW"
      },
      "outputs": [],
      "source": [
        "#(2.1)（nendroid）\n",
        "%cd /kaggle/working/stable-diffusion-webui/models/Stable-diffusion\n",
        "!wget -nc https://civitai.com/api/download/models/46846 -O revAnimated_v122.safetensors\n",
        "\n",
        "!mkdir -p /kaggle/working/stable-diffusion-webui/models/Lora\n",
        "%cd /kaggle/working/stable-diffusion-webui/models/Lora\n",
        "!wget -nc https://civitai.com/api/download/models/32988 -O blindbox_v1_mix.safetensors\n"
      ]
    }
  ],
  "metadata": {
    "colab": {
      "private_outputs": true,
      "provenance": []
    },
    "gpuClass": "standard",
    "kernelspec": {
      "display_name": "Python 3 (ipykernel)",
      "language": "python",
      "name": "python3"
    },
    "language_info": {
      "codemirror_mode": {
        "name": "ipython",
        "version": 3
      },
      "file_extension": ".py",
      "mimetype": "text/x-python",
      "name": "python",
      "nbconvert_exporter": "python",
      "pygments_lexer": "ipython3",
      "version": "3.9.16"
    }
  },
  "nbformat": 4,
  "nbformat_minor": 0
}
