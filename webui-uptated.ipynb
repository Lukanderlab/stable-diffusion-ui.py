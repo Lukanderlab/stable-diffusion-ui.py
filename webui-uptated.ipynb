{
  "cells": [
    {
      "cell_type": "code",
      "execution_count": null,
      "metadata": {
        "execution": {
          "iopub.execute_input": "2023-05-06T05:50:19.358910Z",
          "iopub.status.busy": "2023-05-06T05:50:19.358062Z",
          "iopub.status.idle": "2023-05-06T06:11:06.290153Z",
          "shell.execute_reply": "2023-05-06T06:11:06.289502Z",
          "shell.execute_reply.started": "2023-05-06T05:50:19.358885Z"
        },
        "id": "qfGtMLwLpCr3"
      },
      "outputs": [],
      "source": [
        "#(3) WebUI\n",
        "!apt update\n",
        "!apt -y install python3.10\n",
        "!apt -y install libpython3.10-dev\n",
        "!apt -y install build-essential\n",
        "!curl -sS https://bootstrap.pypa.io/get-pip.py | python3.10\n",
        "!python3.10 -m pip install torch==2.0.0+cu118 torchvision==0.15.2+cu118 torchaudio==2.0.2+cu118 torchtext==0.15.2 torchdata==0.6.1 --extra-index-url https://download.pytorch.org/whl/cu118 -U\n",
        "!python3.10 -m pip install xformers==0.0.20 triton==2.0.0 -U\n",
        "!python3.10 -m pip install matplotlib -U\n",
        "!python3.10 -m pip install ipython -U\n",
        "from IPython import get_ipython\n",
        "get_ipython().run_line_magic('matplotlib', 'inline')\n",
        "%cd /kaggle/working/stable-diffusion-webui\n",
        "!python3.10 launch.py --xformers --enable-insecure-extension-access --share --gradio-queue\n"
      ]
    },
    {
      "cell_type": "code",
      "execution_count": null,
      "metadata": {
        "execution": {
          "iopub.execute_input": "2023-05-04T23:59:36.964054Z",
          "iopub.status.busy": "2023-05-04T23:59:36.963563Z",
          "iopub.status.idle": "2023-05-04T23:59:39.697572Z",
          "shell.execute_reply": "2023-05-04T23:59:39.696873Z",
          "shell.execute_reply.started": "2023-05-04T23:59:36.964034Z"
        },
        "id": "JMVf8COkpK0e"
      },
      "outputs": [],
      "source": [
        "#(1) AUTOMATIC1111\n",
        "%cd /kaggle/working/\n",
        "!rm -rf stable-diffusion-webui\n",
        "!git clone https://github.com/AUTOMATIC1111/stable-diffusion-webui\n"
      ]
    },
    {
      "cell_type": "code",
      "execution_count": null,
      "metadata": {
        "execution": {
          "iopub.execute_input": "2023-05-05T00:00:28.876322Z",
          "iopub.status.busy": "2023-05-05T00:00:28.875770Z",
          "iopub.status.idle": "2023-05-05T00:13:24.442024Z",
          "shell.execute_reply": "2023-05-05T00:13:24.441355Z",
          "shell.execute_reply.started": "2023-05-05T00:00:28.876322Z"
        },
        "id": "rIUmi3RhpQiW"
      },
      "outputs": [],
      "source": [
        "#(2)\n",
        "%cd /kaggle/working/stable-diffusion-webui/models/Stable-diffusion\n",
        "!wget -nc https://civitai.com/api/download/models/16859 -O BlueberryMix-1.0.safetensors\n",
        "!wget -nc https://civitai.com/api/download/models/11745 -O Chilloutmix-Ni-pruned-fp32-fix.safetensors\n",
        "!wget -nc https://huggingface.co/sazyou-roukaku/chilled_remix/resolve/5876389637f3f82d2b33a609f85f9b36aa4748fe/chilled_remix_v1vae.safetensors -O chilled_remix_v1vae.safetensors\n",
        "!wget -nc https://huggingface.co/sazyou-roukaku/chilled_remix/resolve/main/chilled_remix_v2.safetensors -O chilled_remix_v2.safetensors\n",
        "\n",
        "%cd /kaggle/working/stable-diffusion-webui/embeddings\n",
        "!wget -nc https://civitai.com/api/download/models/60938 -O negative_hand-neg.pt\n",
        "!wget -nc https://huggingface.co/datasets/Nerfgun3/bad_prompt/resolve/main/bad_prompt_version2.pt -O bad_prompt.pt\n"
      ]
    },
    {
      "cell_type": "code",
      "execution_count": null,
      "metadata": {
        "id": "a3c-0LBjpYXe"
      },
      "outputs": [],
      "source": [
        "#(4) AUTOMATIC1111\n",
        "%cd /kaggle/working/stable-diffusion-webui\n",
        "!git checkout master\n",
        "!git pull\n"
      ]
    }
  ],
  "metadata": {
    "colab": {
      "private_outputs": true,
      "provenance": []
    },
    "gpuClass": "standard",
    "kernelspec": {
      "display_name": "Python 3 (ipykernel)",
      "language": "python",
      "name": "python3"
    },
    "language_info": {
      "codemirror_mode": {
        "name": "ipython",
        "version": 3
      },
      "file_extension": ".py",
      "mimetype": "text/x-python",
      "name": "python",
      "nbconvert_exporter": "python",
      "pygments_lexer": "ipython3",
      "version": "3.9.16"
    }
  },
  "nbformat": 4,
  "nbformat_minor": 0
}
