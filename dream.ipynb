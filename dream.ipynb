{
  "cells": [
    {
      "cell_type": "code",
      "execution_count": null,
      "metadata": {
        "execution": {
          "iopub.execute_input": "2023-06-05T09:17:57.551173Z",
          "iopub.status.busy": "2023-06-05T09:17:57.550857Z"
        },
        "id": "qfGtMLwLpCr3"
      },
      "outputs": [],
      "source": [
        "#(3) WebUI（DreamBooth）\n",
        "!apt update\n",
        "!apt -y install python3.10\n",
        "!curl -sS https://bootstrap.pypa.io/get-pip.py | python3.10\n",
        "%cd /kaggle/working/dream/extensions/sd_dreambooth_extension\n",
        "!python3.10 -m pip install -r requirements.txt\n",
        "!python3.10 -m pip install numpy --pre torch torchvision torchaudio --force-reinstall --index-url https://download.pytorch.org/whl/nightly/cu117\n",
        "%cd /kaggle/working/dream\n",
        "!python3.10 launch.py --enable-insecure-extension-access --share --gradio-queue\n"
      ]
    },
    {
      "cell_type": "code",
      "execution_count": null,
      "metadata": {
        "execution": {
          "iopub.execute_input": "2023-06-05T09:15:36.054735Z",
          "iopub.status.busy": "2023-06-05T09:15:36.054176Z",
          "iopub.status.idle": "2023-06-05T09:15:45.097635Z",
          "shell.execute_reply": "2023-06-05T09:15:45.096471Z",
          "shell.execute_reply.started": "2023-06-05T09:15:36.054706Z"
        },
        "id": "JMVf8COkpK0e"
      },
      "outputs": [],
      "source": [
        "#(1) AUTOMATIC1111\n",
        "%cd /notebooks\n",
        "!mkdir -p in\n",
        "!mkdir -p out\n",
        "!rm -rf dream\n",
        "!git clone https://github.com/AUTOMATIC1111/stable-diffusion-webui dream\n",
        "%cd /kaggle/working/dream/extensions\n",
        "!git clone https://github.com/d8ahazard/sd_dreambooth_extension\n"
      ]
    },
    {
      "cell_type": "code",
      "execution_count": null,
      "metadata": {
        "execution": {
          "iopub.execute_input": "2023-06-05T09:16:58.719520Z",
          "iopub.status.busy": "2023-06-05T09:16:58.718988Z",
          "iopub.status.idle": "2023-06-05T09:17:22.864102Z",
          "shell.execute_reply": "2023-06-05T09:17:22.863357Z",
          "shell.execute_reply.started": "2023-06-05T09:16:58.719493Z"
        },
        "id": "rIUmi3RhpQiW"
      },
      "outputs": [],
      "source": [
        "#(2) \n",
        "%cd /kaggle/working/dream/models/Stable-diffusion\n",
        "!wget -nc https://huggingface.co/runwayml/stable-diffusion-v1-5/resolve/main/v1-5-pruned-emaonly.safetensors\n",
        "\n",
        "%cd /kaggle/working/dream/embeddings\n"
      ]
    },
    {
      "cell_type": "code",
      "execution_count": null,
      "metadata": {
        "execution": {
          "iopub.execute_input": "2023-06-04T16:34:49.772593Z",
          "iopub.status.busy": "2023-06-04T16:34:49.771752Z",
          "iopub.status.idle": "2023-06-04T16:34:51.656563Z",
          "shell.execute_reply": "2023-06-04T16:34:51.655969Z",
          "shell.execute_reply.started": "2023-06-04T16:34:49.772528Z"
        },
        "id": "a3c-0LBjpYXe"
      },
      "outputs": [],
      "source": [
        "#(4) AUTOMATIC1111\n",
        "%cd /kaggle/working/dream\n",
        "!git checkout master\n",
        "!git pull\n",
        "%cd /kaggle/working/dream/extensions/sd_dreambooth_extension\n",
        "!git pull\n"
      ]
    }
  ],
  "metadata": {
    "colab": {
      "private_outputs": true,
      "provenance": []
    },
    "gpuClass": "standard",
    "kernelspec": {
      "display_name": "Python 3 (ipykernel)",
      "language": "python",
      "name": "python3"
    },
    "language_info": {
      "codemirror_mode": {
        "name": "ipython",
        "version": 3
      },
      "file_extension": ".py",
      "mimetype": "text/x-python",
      "name": "python",
      "nbconvert_exporter": "python",
      "pygments_lexer": "ipython3",
      "version": "3.9.16"
    }
  },
  "nbformat": 4,
  "nbformat_minor": 0
}
