{
  "nbformat": 4,
  "nbformat_minor": 0,
  "metadata": {
    "colab": {
      "private_outputs": true,
      "provenance": [],
      "authorship_tag": "ABX9TyPHRpzgQtd18Cik5oL43Kav"
    },
    "kernelspec": {
      "name": "python3",
      "display_name": "Python 3"
    },
    "language_info": {
      "name": "python"
    },
    "gpuClass": "standard"
  },
  "cells": [
    {
      "cell_type": "code",
      "execution_count": null,
      "metadata": {
        "id": "MqkL1trNsCc9"
      },
      "outputs": [],
      "source": [
        "# \n",
        "%env DT=2023-05-24\n",
        "!zip -r /kaggle/working/download-$DT.zip /kaggle/working/stable-diffusion-webui/outputs/txt2img-images/$DT\n",
        "!rm -rf /kaggle/working/stable-diffusion-webui/outputs/txt2img-images/$DT\n"
      ]
    },
    {
      "cell_type": "code",
      "source": [
        "# \n",
        "!ls -l /kaggle/working/stable-diffusion-webui/outputs/txt2img-images/"
      ],
      "metadata": {
        "id": "aCPEaMoUxoL4"
      },
      "execution_count": null,
      "outputs": []
    }
  ]
}
