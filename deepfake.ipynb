{
  "cells": [
    {
      "cell_type": "code",
      "execution_count": null,
      "metadata": {
        "execution": {
          "iopub.execute_input": "2023-06-08T21:17:16.209566Z",
          "iopub.status.busy": "2023-06-08T21:17:16.209158Z",
          "iopub.status.idle": "2023-06-08T21:18:29.963230Z",
          "shell.execute_reply": "2023-06-08T21:18:29.961967Z",
          "shell.execute_reply.started": "2023-06-08T21:17:16.209566Z"
        },
        "id": "rIUmi3RhpQiW"
      },
      "outputs": [],
      "source": [
        "#(2) \n",
        "!python run.py --target /kaggle/working/video01.mp4 --face /kaggle/working/face.png  --gpu-threads 2 --gpu-vendor intel\n"
      ]
    },
    {
      "cell_type": "code",
      "execution_count": null,
      "metadata": {
        "execution": {
          "iopub.execute_input": "2023-06-08T21:05:40.807973Z",
          "iopub.status.busy": "2023-06-08T21:05:40.807499Z",
          "iopub.status.idle": "2023-06-08T21:16:22.720939Z",
          "shell.execute_reply": "2023-06-08T21:16:22.719611Z",
          "shell.execute_reply.started": "2023-06-08T21:05:40.807940Z"
        },
        "id": "a3c-0LBjpYXe"
      },
      "outputs": [],
      "source": [
        "#(1) \n",
        "!apt update\n",
        "!apt-get install -y python3-tk\n",
        "!add-apt-repository -y ppa:savoury1/ffmpeg4\n",
        "!apt-get install -y ffmpeg\n",
        "%cd /kaggle/working/\n",
        "!rm -rf roop\n",
        "!git clone https://github.com/s0md3v/roop.git\n",
        "%cd /kaggle/working/roop\n",
        "!pip install -r requirements.txt\n",
        "!curl -Lo /kaggle/working/roop/inswapper_128.onnx https://civitai.com/api/download/models/85159\n",
        "!pip uninstall onnxruntime onnxruntime-gpu -y\n",
        "!pip install torch torchvision torchaudio --force-reinstall --index-url https://download.pytorch.org/whl/cu118\n",
        "!pip install onnxruntime-gpu\n"
      ]
    }
  ],
  "metadata": {
    "colab": {
      "private_outputs": true,
      "provenance": []
    },
    "gpuClass": "standard",
    "kernelspec": {
      "display_name": "Python 3 (ipykernel)",
      "language": "python",
      "name": "python3"
    },
    "language_info": {
      "codemirror_mode": {
        "name": "ipython",
        "version": 3
      },
      "file_extension": ".py",
      "mimetype": "text/x-python",
      "name": "python",
      "nbconvert_exporter": "python",
      "pygments_lexer": "ipython3",
      "version": "3.9.16"
    }
  },
  "nbformat": 4,
  "nbformat_minor": 0
}
